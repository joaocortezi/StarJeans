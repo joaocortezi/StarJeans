{
 "cells": [
  {
   "cell_type": "code",
   "execution_count": null,
   "metadata": {},
   "outputs": [],
   "source": []
  }
 ],
 "metadata": {
  "kernelspec": {
   "display_name": "Python 3.9.12 ('base')",
   "language": "python",
   "name": "python3"
  },
  "language_info": {
   "name": "python",
   "version": "3.9.12"
  },
  "orig_nbformat": 4,
  "vscode": {
   "interpreter": {
    "hash": "bdaf18d4c578f2a391672af1b0d92a2d783c11df42ceb6820a12e3a62a71b9ef"
   }
  }
 },
 "nbformat": 4,
 "nbformat_minor": 2
}
